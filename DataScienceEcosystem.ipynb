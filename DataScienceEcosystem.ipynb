{
 "cells": [
  {
   "cell_type": "markdown",
   "id": "f0f9bcd2-18ec-4082-8ba2-233ecc240e00",
   "metadata": {},
   "source": [
    "# Data Science Tools and Ecosystem"
   ]
  },
  {
   "cell_type": "markdown",
   "id": "7c3556b6-0683-4ef7-814a-913a233645ac",
   "metadata": {},
   "source": [
    "In this notebook, Data Science Tools and Ecosystem are summarized."
   ]
  },
  {
   "cell_type": "markdown",
   "id": "373f060e-695e-49e1-88b4-cd3ddb8853a5",
   "metadata": {},
   "source": [
    "**Objectives:**\n",
    "- Popular languages for Data Scientists\n",
    "- Commonly used libraries used by Data Scientists\n",
    "- Data Science open source tools development environment\n"
   ]
  },
  {
   "cell_type": "markdown",
   "id": "b2ca1d35-c9e7-484b-9bca-1fa4bae4d25a",
   "metadata": {},
   "source": [
    "Some of the popular languages that Data Scientists use are:\n",
    "1. Python\n",
    "2. R\n",
    "3. SQL"
   ]
  },
  {
   "cell_type": "markdown",
   "id": "1f8e7f41-18ae-4421-a9d4-1bcf40010412",
   "metadata": {},
   "source": [
    "Some of the commonly used libraries used by Data Scientists include:\n",
    "1. Numpy\n",
    "2. Pandas\n",
    "3. Scikit Learn"
   ]
  },
  {
   "cell_type": "markdown",
   "id": "dd038e1f-2e98-49f6-afeb-24afd1ac596e",
   "metadata": {},
   "source": [
    "|Data Science Tools|\n",
    "|------------------|\n",
    "|Jupyter Notebooks|\n",
    "|Apache Zeppelin|\n",
    "|RStudio|\n",
    "\n",
    "\n"
   ]
  },
  {
   "cell_type": "markdown",
   "id": "533a0994-3443-4af2-ae21-bc359adea8cb",
   "metadata": {},
   "source": [
    "### Below are a few examples of evaluating arithmetic expressions in Python.\n",
    "\n"
   ]
  },
  {
   "cell_type": "code",
   "execution_count": 14,
   "id": "693a8a9d-a426-4238-9c01-830bcad9f506",
   "metadata": {},
   "outputs": [
    {
     "data": {
      "text/plain": [
       "17"
      ]
     },
     "execution_count": 14,
     "metadata": {},
     "output_type": "execute_result"
    }
   ],
   "source": [
    "#This a simple arithmetic expression to mutiply then add integers\n",
    "(3*4)+5"
   ]
  },
  {
   "cell_type": "code",
   "execution_count": 17,
   "id": "2b159baf-9bae-4770-9a02-3535a727892f",
   "metadata": {},
   "outputs": [
    {
     "data": {
      "text/plain": [
       "3.3333333333333335"
      ]
     },
     "execution_count": 17,
     "metadata": {},
     "output_type": "execute_result"
    }
   ],
   "source": [
    "#This will convert 200 minutes to hours by diving by 60\n",
    "200/60"
   ]
  },
  {
   "cell_type": "markdown",
   "id": "ed7bbb13-dac6-4094-969e-e887e7fc5ca4",
   "metadata": {},
   "source": [
    "## Author\n",
    "Jorge Luis Nava Ortiz"
   ]
  },
  {
   "cell_type": "code",
   "execution_count": null,
   "id": "8dbc5678-3daa-4415-b0a0-ff8f25c3b25c",
   "metadata": {},
   "outputs": [],
   "source": []
  }
 ],
 "metadata": {
  "kernelspec": {
   "display_name": "Python [conda env:base] *",
   "language": "python",
   "name": "conda-base-py"
  },
  "language_info": {
   "codemirror_mode": {
    "name": "ipython",
    "version": 3
   },
   "file_extension": ".py",
   "mimetype": "text/x-python",
   "name": "python",
   "nbconvert_exporter": "python",
   "pygments_lexer": "ipython3",
   "version": "3.12.7"
  }
 },
 "nbformat": 4,
 "nbformat_minor": 5
}
